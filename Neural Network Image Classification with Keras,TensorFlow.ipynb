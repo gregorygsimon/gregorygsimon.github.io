{
 "cells": [
  {
   "cell_type": "markdown",
   "metadata": {},
   "source": [
    "# Neural Network image classfication using Keras/TensorFlow"
   ]
  },
  {
   "cell_type": "markdown",
   "metadata": {},
   "source": [
    "In the code below, we start with a simple neural network to classify images. Using a convolution, pooling, dropout (and discarding image augmentation, multiple CNN layers, momentum and several other alternatives to standard gradient descent which did not improve the model) we improve the classification accuracy from 87% to 91%.\n",
    "\n",
    "We also discuss next steps for improving accuracy further."
   ]
  },
  {
   "cell_type": "markdown",
   "metadata": {},
   "source": [
    "We'll start by importing libraries for TensorFlow and keras, and loading the [Fashion MNIST](https://github.com/zalandoresearch/fashion-mnist) dataset."
   ]
  },
  {
   "cell_type": "code",
   "execution_count": 1,
   "metadata": {},
   "outputs": [
    {
     "name": "stderr",
     "output_type": "stream",
     "text": [
      "C:\\Users\\gregorygsimon\\Anaconda3\\lib\\site-packages\\h5py\\__init__.py:36: FutureWarning: Conversion of the second argument of issubdtype from `float` to `np.floating` is deprecated. In future, it will be treated as `np.float64 == np.dtype(float).type`.\n",
      "  from ._conv import register_converters as _register_converters\n"
     ]
    },
    {
     "name": "stdout",
     "output_type": "stream",
     "text": [
      "1.12.0\n"
     ]
    }
   ],
   "source": [
    "import tensorflow as tf\n",
    "from tensorflow import keras\n",
    "import numpy as np\n",
    "import matplotlib.pyplot as plt\n",
    "\n",
    "# fixing random seeds\n",
    "from numpy.random import seed\n",
    "seed(22)\n",
    "from tensorflow import set_random_seed\n",
    "set_random_seed(222)\n",
    "\n",
    "print(tf.__version__)\n",
    "\n",
    "#load fashion mnist dataset with 10 categories of clothing, in 28x28 images\n",
    "fashion_mnist = keras.datasets.fashion_mnist\n",
    "\n",
    "class_names = ['T-shirt/top', 'Trouser', 'Pullover', 'Dress', 'Coat',\n",
    "               'Sandal', 'Shirt', 'Sneaker', 'Bag', 'Ankle boot']\n",
    "\n",
    "(train_images, train_labels), (test_images, test_labels) = fashion_mnist.load_data()\n",
    "\n",
    "#scale so pixels are between 0 and 1\n",
    "train_images = train_images / 255.0\n",
    "test_images = test_images / 255.0"
   ]
  },
  {
   "cell_type": "code",
   "execution_count": 5,
   "metadata": {},
   "outputs": [
    {
     "data": {
      "text/plain": [
       "['T-shirt/top',\n",
       " 'Trouser',\n",
       " 'Pullover',\n",
       " 'Dress',\n",
       " 'Coat',\n",
       " 'Sandal',\n",
       " 'Shirt',\n",
       " 'Sneaker',\n",
       " 'Bag',\n",
       " 'Ankle boot']"
      ]
     },
     "execution_count": 5,
     "metadata": {},
     "output_type": "execute_result"
    }
   ],
   "source": [
    "class_names"
   ]
  },
  {
   "cell_type": "markdown",
   "metadata": {},
   "source": [
    "Some of these class names are very similar visually (e.g. T-shirt/top vs shirt). Let's define a function to display the nth image along with its class to see examples of the images. "
   ]
  },
  {
   "cell_type": "code",
   "execution_count": 6,
   "metadata": {},
   "outputs": [
    {
     "data": {
      "image/png": "[encoded data removed]",
      "text/plain": [
       "<Figure size 432x288 with 2 Axes>"
      ]
     },
     "metadata": {},
     "output_type": "display_data"
    },
    {
     "name": "stdout",
     "output_type": "stream",
     "text": [
      "Pullover\n"
     ]
    }
   ],
   "source": [
    "\n",
    "def show_image_num(n):\n",
    "    # display the nth image in grayscale along with the it's class name\n",
    "    plt.figure()\n",
    "    plt.imshow(train_images[n],cmap='gray_r')\n",
    "    plt.colorbar()\n",
    "    plt.grid(False)\n",
    "    plt.show()\n",
    "    print(class_names[train_labels[n]])\n",
    "\n",
    "show_image_num(7)"
   ]
  },
  {
   "cell_type": "markdown",
   "metadata": {},
   "source": [
    "Our baseline will be a very simple model taken from the [TensorFlow/keras documentation](https://www.tensorflow.org/tutorials/keras/basic_classification)."
   ]
  },
  {
   "cell_type": "code",
   "execution_count": 7,
   "metadata": {},
   "outputs": [
    {
     "name": "stdout",
     "output_type": "stream",
     "text": [
      "_________________________________________________________________\n",
      "Layer (type)                 Output Shape              Param #   \n",
      "=================================================================\n",
      "flatten (Flatten)            (None, 784)               0         \n",
      "_________________________________________________________________\n",
      "dense (Dense)                (None, 128)               100480    \n",
      "_________________________________________________________________\n",
      "dense_1 (Dense)              (None, 10)                1290      \n",
      "=================================================================\n",
      "Total params: 101,770\n",
      "Trainable params: 101,770\n",
      "Non-trainable params: 0\n",
      "_________________________________________________________________\n"
     ]
    }
   ],
   "source": [
    "\n",
    "model = keras.Sequential([\n",
    "    keras.layers.Flatten(input_shape=(28, 28)),\n",
    "    keras.layers.Dense(128, activation=tf.nn.relu),\n",
    "    keras.layers.Dense(10, activation=tf.nn.softmax)\n",
    "])\n",
    "\n",
    "model.compile(optimizer='adam',\n",
    "              loss='sparse_categorical_crossentropy',\n",
    "              metrics=['accuracy'])\n",
    "\n",
    "model.summary()"
   ]
  },
  {
   "cell_type": "code",
   "execution_count": 50,
   "metadata": {},
   "outputs": [
    {
     "name": "stdout",
     "output_type": "stream",
     "text": [
      "Epoch 1/5\n",
      "60000/60000 [==============================] - 7s 122us/step - loss: 0.4938 - acc: 0.8250\n",
      "Epoch 2/5\n",
      "60000/60000 [==============================] - 4s 63us/step - loss: 0.3688 - acc: 0.8649\n",
      "Epoch 3/5\n",
      "60000/60000 [==============================] - 4s 63us/step - loss: 0.3350 - acc: 0.8773\n",
      "Epoch 4/5\n",
      "60000/60000 [==============================] - 4s 63us/step - loss: 0.3093 - acc: 0.8858\n",
      "Epoch 5/5\n",
      "60000/60000 [==============================] - 4s 63us/step - loss: 0.2934 - acc: 0.8915\n"
     ]
    },
    {
     "data": {
      "text/plain": [
       "<tensorflow.python.keras.callbacks.History at 0x1b7824d10f0>"
      ]
     },
     "execution_count": 50,
     "metadata": {},
     "output_type": "execute_result"
    }
   ],
   "source": [
    "model.fit(train_images, train_labels, epochs=5)"
   ]
  },
  {
   "cell_type": "code",
   "execution_count": 51,
   "metadata": {},
   "outputs": [
    {
     "name": "stdout",
     "output_type": "stream",
     "text": [
      "10000/10000 [==============================] - 0s 25us/step\n",
      "Test accuracy: 0.8714\n"
     ]
    }
   ],
   "source": [
    "test_loss, test_acc = model.evaluate(test_images, test_labels)\n",
    "\n",
    "print('Test accuracy:', test_acc)"
   ]
  },
  {
   "cell_type": "markdown",
   "metadata": {},
   "source": [
    "The test accuracy of 0.872 being lower than the training accuracy of 0.89 suggests overfitting is already occuring. This will be our baseline accuracy to beat.\n",
    "\n",
    "We'll try a Convolution Neural Network with pooling."
   ]
  },
  {
   "cell_type": "markdown",
   "metadata": {},
   "source": [
    "## CNN"
   ]
  },
  {
   "cell_type": "code",
   "execution_count": 2,
   "metadata": {},
   "outputs": [
    {
     "name": "stderr",
     "output_type": "stream",
     "text": [
      "Using TensorFlow backend.\n"
     ]
    }
   ],
   "source": [
    "from keras import optimizers\n",
    "from keras.utils.np_utils import to_categorical\n",
    "from keras.layers import Conv2D, MaxPooling2D, Flatten, Dense, Dropout, Activation\n",
    "from keras.layers.normalization import BatchNormalization\n",
    "from keras.models import Sequential\n",
    "from keras.optimizers import Adadelta\n",
    "\n",
    "# reshaping grayscale images to use with Conv2D\n",
    "## list of images are of shape (n,28,28) but need to be shaped (n,28,28,1) for Conv2D\n",
    "def add_dim(list_of_images):\n",
    "    dim = list(list_of_images.shape)\n",
    "    dim.append(1)\n",
    "    return list_of_images.reshape(dim)\n",
    "\n",
    "train_images_4d = add_dim(train_images)\n",
    "test_images_4d = add_dim(test_images)"
   ]
  },
  {
   "cell_type": "markdown",
   "metadata": {},
   "source": [
    "After some tinkering with parameters, we arrive at the model below. Notes:\n",
    "* The quick overfitting was combatted best using **dropout**\n",
    "* **multiple convolution layers** did not improve model, likely on account of the small size of the images (28 x 28)\n",
    "* **image augmentation** (scaling, stretching, reflecting, etc.) to increase training set dramatically increased training time and reduced model accuracy.\n",
    "    * because these images are already centered and rather uniform, image augmentation shouldn't be needed\n",
    "    * the difference between a 'T-shirt' and a 'dress' or a 'shirt' are going to be subtle; image augmentation may destroy these subtleties\n",
    "* The models take a long time to reach even 95% accuracy on the training set -- even with overfitting already occuring.\n",
    "    * likely due to inherent similarities in these classes"
   ]
  },
  {
   "cell_type": "code",
   "execution_count": 3,
   "metadata": {},
   "outputs": [
    {
     "name": "stdout",
     "output_type": "stream",
     "text": [
      "_________________________________________________________________\n",
      "Layer (type)                 Output Shape              Param #   \n",
      "=================================================================\n",
      "conv2d_1 (Conv2D)            (None, 28, 28, 16)        160       \n",
      "_________________________________________________________________\n",
      "conv2d_2 (Conv2D)            (None, 26, 26, 16)        2320      \n",
      "_________________________________________________________________\n",
      "max_pooling2d_1 (MaxPooling2 (None, 25, 25, 16)        0         \n",
      "_________________________________________________________________\n",
      "dropout_1 (Dropout)          (None, 25, 25, 16)        0         \n",
      "_________________________________________________________________\n",
      "flatten_1 (Flatten)          (None, 10000)             0         \n",
      "_________________________________________________________________\n",
      "dense_1 (Dense)              (None, 32)                320032    \n",
      "_________________________________________________________________\n",
      "batch_normalization_1 (Batch (None, 32)                128       \n",
      "_________________________________________________________________\n",
      "dropout_2 (Dropout)          (None, 32)                0         \n",
      "_________________________________________________________________\n",
      "dense_2 (Dense)              (None, 10)                330       \n",
      "=================================================================\n",
      "Total params: 322,970\n",
      "Trainable params: 322,906\n",
      "Non-trainable params: 64\n",
      "_________________________________________________________________\n"
     ]
    }
   ],
   "source": [
    "model = Sequential()\n",
    "\n",
    "model.add(Conv2D(16, (3, 3), padding='same', activation='relu', input_shape=(28,28,1)))\n",
    "\n",
    "model.add(Conv2D(16, (3, 3), activation='relu'))\n",
    "model.add(MaxPooling2D(pool_size=(2, 2),strides=1))\n",
    "model.add(Dropout(0.25))\n",
    "\n",
    "model.add(Flatten())\n",
    "\n",
    "# Fully connected layer\n",
    "model.add(Dense(32,activation='relu'))\n",
    "model.add(BatchNormalization())\n",
    "model.add(Dropout(0.5))\n",
    "model.add(Dense(10, activation='softmax'))\n",
    "\n",
    "#sgd = optimizers.SGD(lr=0.02, decay=1e-6, momentum=0.5, nesterov=True)\n",
    "\n",
    "model.compile(optimizer=Adadelta(),\n",
    "              loss='sparse_categorical_crossentropy',\n",
    "              metrics=['accuracy'])\n",
    "\n",
    "model.summary()"
   ]
  },
  {
   "cell_type": "code",
   "execution_count": 188,
   "metadata": {},
   "outputs": [],
   "source": [
    "# model.save('single-CNN-128-dense-with-aug.h5') \n",
    "# 82s 44ms/step - loss: 0.5458 - acc: 0.7993 - val_loss: 0.4145 - val_acc: 0.8441\n",
    "\n",
    "# model.save('single-CNN-256-dense-with-aug.h5')\n",
    "# 88s 47ms/step - loss: 0.4557 - acc: 0.8319 - val_loss: 0.3780 - val_acc: 0.8587\n",
    "\n",
    "# model.save('single-CNN-256-dense-no-aug.h5')\n",
    "# 2nd epoch: 69s 1ms/step - loss: 0.2590 - acc: 0.9058 - val_loss: 0.2525 - val_acc: 0.9062"
   ]
  },
  {
   "cell_type": "code",
   "execution_count": 4,
   "metadata": {},
   "outputs": [
    {
     "name": "stdout",
     "output_type": "stream",
     "text": [
      "Train on 42000 samples, validate on 18000 samples\n",
      "Epoch 1/10\n",
      "42000/42000 [==============================] - 58s 1ms/step - loss: 0.6049 - acc: 0.8085 - val_loss: 0.3080 - val_acc: 0.8896\n",
      "Epoch 2/10\n",
      "42000/42000 [==============================] - 57s 1ms/step - loss: 0.3894 - acc: 0.8726 - val_loss: 0.2773 - val_acc: 0.9023\n",
      "Epoch 3/10\n",
      "42000/42000 [==============================] - 57s 1ms/step - loss: 0.3357 - acc: 0.8892 - val_loss: 0.2601 - val_acc: 0.9069\n",
      "Epoch 4/10\n",
      "42000/42000 [==============================] - 57s 1ms/step - loss: 0.3117 - acc: 0.8965 - val_loss: 0.2551 - val_acc: 0.9092\n",
      "Epoch 5/10\n",
      "42000/42000 [==============================] - 57s 1ms/step - loss: 0.2888 - acc: 0.9053 - val_loss: 0.2414 - val_acc: 0.9146\n",
      "Epoch 6/10\n",
      "42000/42000 [==============================] - 57s 1ms/step - loss: 0.2734 - acc: 0.9094 - val_loss: 0.2404 - val_acc: 0.9157\n",
      "Epoch 7/10\n",
      "42000/42000 [==============================] - 58s 1ms/step - loss: 0.2629 - acc: 0.9125 - val_loss: 0.2412 - val_acc: 0.9178\n",
      "Epoch 8/10\n",
      "42000/42000 [==============================] - 57s 1ms/step - loss: 0.2533 - acc: 0.9159 - val_loss: 0.2400 - val_acc: 0.9169\n",
      "Epoch 9/10\n",
      "42000/42000 [==============================] - 57s 1ms/step - loss: 0.2433 - acc: 0.9174 - val_loss: 0.2507 - val_acc: 0.9146\n",
      "Epoch 10/10\n",
      "42000/42000 [==============================] - 58s 1ms/step - loss: 0.2358 - acc: 0.9213 - val_loss: 0.2415 - val_acc: 0.9176\n"
     ]
    }
   ],
   "source": [
    "hist = model.fit(train_images_4d,train_labels,epochs=10,batch_size=50,validation_split=0.3)"
   ]
  },
  {
   "cell_type": "code",
   "execution_count": 5,
   "metadata": {},
   "outputs": [
    {
     "name": "stdout",
     "output_type": "stream",
     "text": [
      "Test accuracy: 0.9135\n"
     ]
    }
   ],
   "source": [
    "score = model.evaluate(x=test_images_4d, y=test_labels, verbose=0)\n",
    "print('Test accuracy:', score[1])"
   ]
  },
  {
   "cell_type": "markdown",
   "metadata": {},
   "source": [
    "#### Neural Network techniques for image classification improved model accuracy to 91% on test set, compared to Neural Network baseline of 87% accuracy.\n",
    "\n",
    "* long training times due to using consumer CPU only.\n",
    "* overfitting only began to appear near the 8th/9th epoch\n",
    "* worth investigating difficult to reach high accuracy even on training set\n",
    "\n"
   ]
  },
  {
   "cell_type": "markdown",
   "metadata": {},
   "source": [
    "## Investigating Misclassified Images\n"
   ]
  },
  {
   "cell_type": "code",
   "execution_count": 6,
   "metadata": {},
   "outputs": [],
   "source": [
    "y_probs = model.predict(test_images_4d)           # probabilities assigned to test images \n",
    "y_preds = [np.argmax(probs) for probs in y_probs] # predictions (the class with highest probability)\n",
    "\n",
    "# indices which were misclassified\n",
    "bad_test_idxs = [i for i in range(len(y_preds)) if y_preds[i]!=test_labels[i]] "
   ]
  },
  {
   "cell_type": "code",
   "execution_count": 7,
   "metadata": {},
   "outputs": [
    {
     "data": {
      "image/png": "[encoded data removed]",
      "text/plain": [
       "<Figure size 1800x576 with 16 Axes>"
      ]
     },
     "metadata": {},
     "output_type": "display_data"
    }
   ],
   "source": [
    "# Print 20 mislabeled examples\n",
    "fig = plt.figure(figsize=(25,8))\n",
    "for i, idx in enumerate(bad_test_idxs[:16]):\n",
    "    ax = fig.add_subplot(2, 8, i + 1, xticks=[], yticks=[])\n",
    "    ax.imshow(np.squeeze(test_images[idx]),cmap='gray_r')\n",
    "    ax.set_title(\"{} (pred: {})\".format(class_names[test_labels[idx]], class_names[y_preds[idx]]))"
   ]
  },
  {
   "cell_type": "markdown",
   "metadata": {},
   "source": [
    "We observe many of these classifications would be difficult for a human as well, for example the difference between a coat, pullover, shirt, t-shirt"
   ]
  },
  {
   "cell_type": "code",
   "execution_count": 8,
   "metadata": {},
   "outputs": [
    {
     "data": {
      "text/plain": [
       "<matplotlib.axes._subplots.AxesSubplot at 0x18f682a1f28>"
      ]
     },
     "execution_count": 8,
     "metadata": {},
     "output_type": "execute_result"
    },
    {
     "data": {
      "image/png": "[encoded data removed]",
      "text/plain": [
       "<Figure size 432x288 with 1 Axes>"
      ]
     },
     "metadata": {},
     "output_type": "display_data"
    }
   ],
   "source": [
    "# create a Series of all pairs (predicted class, actual class)\n",
    "import pandas as pd\n",
    "pairs = pd.Series([(class_names[y_preds[i]],class_names[test_labels[i]]) for i in range(len(test_labels))])\n",
    "# plot top pairs\n",
    "pairs.sort_values().value_counts(sort=True).head(10).plot(\n",
    "    kind='bar',title='Most common (predicted class,actual class) pairs'\n",
    ")\n"
   ]
  },
  {
   "cell_type": "markdown",
   "metadata": {},
   "source": [
    "The model does very well with Sandals, Trousers, Bags, and Sneakers, but did not match nearly as accurately for T-shirt/pullover/coat/and shirt"
   ]
  },
  {
   "cell_type": "code",
   "execution_count": 9,
   "metadata": {},
   "outputs": [
    {
     "data": {
      "text/plain": [
       "<matplotlib.axes._subplots.AxesSubplot at 0x18f67f918d0>"
      ]
     },
     "execution_count": 9,
     "metadata": {},
     "output_type": "execute_result"
    },
    {
     "data": {
      "image/png": "[encoded data removed]",
      "text/plain": [
       "<Figure size 432x288 with 1 Axes>"
      ]
     },
     "metadata": {},
     "output_type": "display_data"
    }
   ],
   "source": [
    "# by listing the pairs (predicted class,correct class) that were not the same,\n",
    "# we can see the classes that the model most often confused\n",
    "misclassified_pairs = pd.Series(\n",
    "    [(class_names[y_preds[i]],class_names[test_labels[i]]) \\\n",
    "     for i in range(len(test_labels)) \\\n",
    "     if y_preds[i]!=test_labels[i]]\n",
    ")\n",
    "misclassified_pairs.sort_values().value_counts(sort=True).head(10).plot(\n",
    "    kind='bar', title='most commonly misclassified (prediction,actual) pairs')"
   ]
  },
  {
   "cell_type": "markdown",
   "metadata": {},
   "source": [
    "Of the 900 misclassified clothing images, more than half are due to mislabeling 'tops'. \n",
    "\n",
    "#### Next Steps\n",
    "To further improve accuracy, train a separate NN on just classifying the different tops, and use this once this baseline model predicted any of the T-shirt/Shirt/Coat/Pullover"
   ]
  },
  {
   "cell_type": "markdown",
   "metadata": {},
   "source": [
    "## appendix: image augmentation not effective"
   ]
  },
  {
   "cell_type": "markdown",
   "metadata": {},
   "source": [
    "The code below shows that image augmentation (used often in image processing) is not effective here."
   ]
  },
  {
   "cell_type": "code",
   "execution_count": 10,
   "metadata": {},
   "outputs": [],
   "source": [
    "from keras.preprocessing.image import ImageDataGenerator"
   ]
  },
  {
   "cell_type": "code",
   "execution_count": 11,
   "metadata": {},
   "outputs": [
    {
     "name": "stdout",
     "output_type": "stream",
     "text": [
      "Epoch 1/5\n",
      "1875/1875 [==============================] - 88s 47ms/step - loss: 0.7728 - acc: 0.7286 - val_loss: 0.4200 - val_acc: 0.8494\n",
      "Epoch 2/5\n",
      "1875/1875 [==============================] - 86s 46ms/step - loss: 0.5726 - acc: 0.7983 - val_loss: 0.3751 - val_acc: 0.8666\n",
      "Epoch 3/5\n",
      "1875/1875 [==============================] - 85s 45ms/step - loss: 0.5328 - acc: 0.8138 - val_loss: 0.3520 - val_acc: 0.8764\n",
      "Epoch 4/5\n",
      "1875/1875 [==============================] - 83s 44ms/step - loss: 0.4990 - acc: 0.8258 - val_loss: 0.3896 - val_acc: 0.8600\n",
      "Epoch 5/5\n",
      "1875/1875 [==============================] - 83s 44ms/step - loss: 0.4832 - acc: 0.8330 - val_loss: 0.3433 - val_acc: 0.8764\n"
     ]
    },
    {
     "data": {
      "text/plain": [
       "<keras.callbacks.History at 0x18f6811b080>"
      ]
     },
     "execution_count": 11,
     "metadata": {},
     "output_type": "execute_result"
    }
   ],
   "source": [
    "# create same model that previously reach 91% accuracy\n",
    "model = Sequential()\n",
    "\n",
    "model.add(Conv2D(16, (3, 3), padding='same', activation='relu', input_shape=(28,28,1)))\n",
    "\n",
    "model.add(Conv2D(16, (3, 3), activation='relu'))\n",
    "model.add(MaxPooling2D(pool_size=(2, 2),strides=1))\n",
    "model.add(Dropout(0.25))\n",
    "\n",
    "model.add(Flatten())\n",
    "\n",
    "# Fully connected layer\n",
    "model.add(Dense(32,activation='relu'))\n",
    "model.add(BatchNormalization())\n",
    "model.add(Dropout(0.5))\n",
    "model.add(Dense(10, activation='softmax'))\n",
    "\n",
    "model.compile(optimizer=Adadelta(),\n",
    "              loss='sparse_categorical_crossentropy',\n",
    "              metrics=['accuracy'])\n",
    "\n",
    "# add a a generator for augmented images\n",
    "gen = ImageDataGenerator(rotation_range=8, width_shift_range=0.08, shear_range=0.3,\n",
    "                         height_shift_range=0.08, zoom_range=0.08)\n",
    "test_gen = ImageDataGenerator()\n",
    "\n",
    "train_generator = gen.flow(train_images_4d, train_labels, batch_size=32)\n",
    "test_generator = test_gen.flow(test_images_4d, test_labels, batch_size=32)\n",
    "\n",
    "model.fit_generator(train_generator, steps_per_epoch=60000//32, epochs=5, \n",
    "                    validation_data=test_generator, validation_steps=10000//32)"
   ]
  },
  {
   "cell_type": "markdown",
   "metadata": {},
   "source": [
    "at 80 seconds per epoch, the training time is significantly slower, and the change in loss/accuracy is slowing / halting. Let's run a few more epochs:"
   ]
  },
  {
   "cell_type": "code",
   "execution_count": 12,
   "metadata": {},
   "outputs": [
    {
     "name": "stdout",
     "output_type": "stream",
     "text": [
      "Epoch 1/3\n",
      "1875/1875 [==============================] - 82s 44ms/step - loss: 0.4677 - acc: 0.8374 - val_loss: 0.3149 - val_acc: 0.8901\n",
      "Epoch 2/3\n",
      "1875/1875 [==============================] - 83s 44ms/step - loss: 0.4534 - acc: 0.8438 - val_loss: 0.3418 - val_acc: 0.8825\n",
      "Epoch 3/3\n",
      "1875/1875 [==============================] - 83s 44ms/step - loss: 0.4484 - acc: 0.8455 - val_loss: 0.3449 - val_acc: 0.8798\n"
     ]
    },
    {
     "data": {
      "text/plain": [
       "<keras.callbacks.History at 0x18f67f91390>"
      ]
     },
     "execution_count": 12,
     "metadata": {},
     "output_type": "execute_result"
    }
   ],
   "source": [
    "model.fit_generator(train_generator, steps_per_epoch=60000//32, epochs=3, \n",
    "                    validation_data=test_generator, validation_steps=10000//32)"
   ]
  },
  {
   "cell_type": "code",
   "execution_count": 13,
   "metadata": {},
   "outputs": [
    {
     "name": "stdout",
     "output_type": "stream",
     "text": [
      "Test accuracy: 0.8795\n"
     ]
    }
   ],
   "source": [
    "score = model.evaluate(x=test_images_4d, y=test_labels, verbose=0)\n",
    "print('Test accuracy:', score[1])"
   ]
  },
  {
   "cell_type": "markdown",
   "metadata": {},
   "source": [
    "After significantly longer training times, the accuracy is on par with our simplest model. Because the images are highly standardized (centered, angled upright, photographed from consistent angles) the benefits of image augmentation are minimal. Additionally, the subtle differences between pullover/shirt/t-shirt/dress may be lost when images are augmented."
   ]
  }
 ],
 "metadata": {
  "kernelspec": {
   "display_name": "Python 3",
   "language": "python",
   "name": "python3"
  },
  "language_info": {
   "codemirror_mode": {
    "name": "ipython",
    "version": 3
   },
   "file_extension": ".py",
   "mimetype": "text/x-python",
   "name": "python",
   "nbconvert_exporter": "python",
   "pygments_lexer": "ipython3",
   "version": "3.6.4"
  }
 },
 "nbformat": 4,
 "nbformat_minor": 2
}
